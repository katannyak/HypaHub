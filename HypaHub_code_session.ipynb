{
 "cells": [
  {
   "cell_type": "markdown",
   "metadata": {},
   "source": [
    "I. Write a function in your choice of language\n",
    "\n",
    "Input: \n",
    " - An list  (seqs) of DNA sequences, e.g. [“AAAAGAAAAA”, “CCCAAATTTT”,”GGGGGGGGGGAGA”, “CAAATTT”,…. ]\n",
    " - An integer k, e.g. 3\n",
    "\n",
    "Analysis: Flag a sequence seqs[i] if it shares at least one k-character substring with any other sequence seqs[j] if j != i\n",
    "\n",
    "Output: A list of integers (i) representing the flagged sequences seq[i]\n",
    "\n",
    "\n",
    "II. Code change Followup:\n",
    "\n",
    "Flag a sequence seqs[i] if it shares at least one k-bp sub-sequence with either any other sequence seqs[j] if j=i, or the reverse complement any other sequence seqs[j] if j != i\n"
   ]
  },
  {
   "cell_type": "code",
   "execution_count": 1,
   "metadata": {},
   "outputs": [],
   "source": [
    "def extract_kmers(sequence, k):\n",
    "    '''\n",
    "    Finds the set of kmers in a sequence\n",
    "    '''\n",
    "    subseq = []\n",
    "    \n",
    "    for ix,val in enumerate(sequence):\n",
    "        \n",
    "        if ix < (len(sequence)-k+1):\n",
    "            subseq.append(sequence[ix:ix+k])\n",
    "    \n",
    "    return set(subseq)\n",
    "           \n",
    "\n",
    "def map_index_kmers(seq_list, k):\n",
    "    '''\n",
    "    Creates a dictionary of index to sequence (key) and the set of k-mers (value)\n",
    "    '''\n",
    "    k_dic = {}\n",
    "\n",
    "    for idx, seq in enumerate(seq_list):\n",
    "\n",
    "        k_dic[idx] = extract_kmers(seq, k) # get all kmers in sequence\n",
    "\n",
    "    return k_dic\n",
    "\n",
    "\n",
    "def reverse_complement(sequence):\n",
    "    '''\n",
    "    Returns the reverse complement of a sequence    \n",
    "    '''\n",
    "    comp = \"\"\n",
    "    \n",
    "    # substitute purine and pyrimidine pairs\n",
    "    for s in sequence:\n",
    "        if s == 'A':\n",
    "            comp += 'T'\n",
    "        elif s == 'T':\n",
    "            comp += 'A'\n",
    "        elif s == 'G':\n",
    "            comp += 'C'\n",
    "        elif s == 'C':\n",
    "            comp += 'G'\n",
    "        else:\n",
    "            comp += s    # for 'N' or other non-ATCG characters\n",
    "            \n",
    "    # reverse the sequence\n",
    "    comp = comp[::-1]\n",
    "    \n",
    "    return comp\n",
    "\n",
    "\n",
    "def get_reverse_comp(seq_list):\n",
    "    '''\n",
    "    Returns a list of the reverse complement of sequences\n",
    "    '''\n",
    "    \n",
    "    reverse_seq_list = []\n",
    "    \n",
    "    for x in seq_list:\n",
    "        reverse_seq_list.append(reverse_complement(x))\n",
    "       \n",
    "    return reverse_seq_list\n",
    "\n",
    "\n",
    "def flag_matching_kmer(seq_list, k):\n",
    "    '''\n",
    "    Generates a list of integers represeting the index of sequences that contain at least one \n",
    "    k-mer present in another sequence (including the reverse complement).\n",
    "    '''\n",
    "\n",
    "    flagged = []\n",
    "    \n",
    "    # dictionary mapping kmers to index of sequences\n",
    "    fwd_kmer_dic = map_index_kmers(seq_list, k)\n",
    "    \n",
    "    # dictionary mapping kmers to index of reverse complement of sequences\n",
    "    reverse_seq_list = get_reverse_comp(seq_list)   \n",
    "    rev_kmer_dic = map_index_kmers(reverse_seq_list, k)\n",
    "    \n",
    "    for idx, seq in enumerate(seq_list):\n",
    "\n",
    "        for i in range(len(seq_list)):\n",
    "            if idx != i:                                               # match with non-self sequences\n",
    "                if fwd_kmer_dic[idx].intersection(fwd_kmer_dic[i]):    # if sequence has matching k-mer in another sequence\n",
    "                    flagged.append(idx)                                # save index of seqence and move to next sequence\n",
    "                    break\n",
    "                elif fwd_kmer_dic[idx].intersection(rev_kmer_dic[i]):  # if sequence has matching k-mer in reverse complement of another sequence\n",
    "                    flagged.append(idx)                      \n",
    "                    break\n",
    "\n",
    "    print_dicts(fwd_kmer_dic, rev_kmer_dic)\n",
    "    \n",
    "    return flagged\n",
    "\n",
    "\n",
    "def print_dicts(seq, rev_comp):\n",
    "    '''\n",
    "    Print dictionaries of indexs mapped to k-mer set\n",
    "    '''\n",
    "    print(\"Sequence:\")\n",
    "    for k,v in seq.items():\n",
    "        print(k, v)\n",
    "\n",
    "        \n",
    "    print(\"\\nReverse complement\")\n",
    "    for k,v in rev_comp.items():\n",
    "        print(k, v)"
   ]
  },
  {
   "cell_type": "code",
   "execution_count": 2,
   "metadata": {},
   "outputs": [
    {
     "name": "stdout",
     "output_type": "stream",
     "text": [
      "Sequence:\n",
      "0 {'AGA', 'AAG', 'GAA', 'AAA'}\n",
      "1 {'TTT', 'ATT', 'AAT', 'CCC', 'CAA', 'CCA', 'AAA'}\n",
      "2 {'AGA', 'GAG', 'GGG', 'GGA'}\n",
      "3 {'TTT', 'ATT', 'AAT', 'CAA', 'AAA'}\n",
      "\n",
      "Reverse complement\n",
      "0 {'TTT', 'TTC', 'CTT', 'TCT'}\n",
      "1 {'TTT', 'GGG', 'ATT', 'TTG', 'AAT', 'TGG', 'AAA'}\n",
      "2 {'TCC', 'CCC', 'TCT', 'CTC'}\n",
      "3 {'TTT', 'ATT', 'TTG', 'AAT', 'AAA'}\n",
      "\n",
      "Flagged indexes: [0, 1, 2, 3]\n"
     ]
    }
   ],
   "source": [
    "# Test 1\n",
    "\n",
    "seq_list = ['AAAAGAAAAA', 'CCCAAATTTT', 'GGGGGGGGGGAGA', 'CAAATTT']\n",
    "k = 3\n",
    "\n",
    "print(\"\\nFlagged indexes:\", flag_matching_kmer(seq_list, k))"
   ]
  },
  {
   "cell_type": "code",
   "execution_count": 3,
   "metadata": {},
   "outputs": [
    {
     "name": "stdout",
     "output_type": "stream",
     "text": [
      "Sequence:\n",
      "0 {'AGAA', 'AAAG', 'AAAA', 'GAAA', 'AAGA'}\n",
      "1 {'CAAA', 'AATT', 'TTTT', 'CCCA', 'ATTT', 'CCAA', 'AAAT'}\n",
      "2 {'GGGG', 'GGGA', 'GAGA', 'GGAG'}\n",
      "3 {'CAAA', 'ATTT', 'AATT', 'AAAT'}\n",
      "\n",
      "Reverse complement\n",
      "0 {'TTCT', 'TTTT', 'TTTC', 'CTTT', 'TCTT'}\n",
      "1 {'TTGG', 'AATT', 'TGGG', 'AAAA', 'ATTT', 'TTTG', 'AAAT'}\n",
      "2 {'TCTC', 'TCCC', 'CTCC', 'CCCC'}\n",
      "3 {'TTTG', 'ATTT', 'AATT', 'AAAT'}\n",
      "\n",
      "Flagged indexes: [0, 1, 3]\n"
     ]
    }
   ],
   "source": [
    "# Test 2\n",
    "\n",
    "seq_list = ['AAAAGAAAAA', 'CCCAAATTTT', 'GGGGGGGGGGAGA', 'CAAATTT']\n",
    "k = 4\n",
    "\n",
    "print(\"\\nFlagged indexes:\", flag_matching_kmer(seq_list, k))"
   ]
  },
  {
   "cell_type": "code",
   "execution_count": 4,
   "metadata": {},
   "outputs": [
    {
     "name": "stdout",
     "output_type": "stream",
     "text": [
      "Sequence:\n",
      "0 {'AAAA'}\n",
      "1 {'CCCT', 'CTTT', 'CCCC', 'CCTT'}\n",
      "2 {'GGGG', 'GGGA'}\n",
      "\n",
      "Reverse complement\n",
      "0 {'TTTT'}\n",
      "1 {'GGGG', 'AAGG', 'AGGG', 'AAAG'}\n",
      "2 {'TCCC', 'CCCC'}\n",
      "\n",
      "Flagged indexes: [1, 2]\n"
     ]
    }
   ],
   "source": [
    "# Test 3\n",
    "\n",
    "seq_list = ['AAAAAAAAAA', 'CCCCCCTTT', 'GGGGGGGGGGGA']\n",
    "k = 4\n",
    "\n",
    "print(\"\\nFlagged indexes:\", flag_matching_kmer(seq_list, k))"
   ]
  },
  {
   "cell_type": "code",
   "execution_count": 5,
   "metadata": {},
   "outputs": [
    {
     "name": "stdout",
     "output_type": "stream",
     "text": [
      "Sequence:\n",
      "0 {'ATGC', 'TGCA'}\n",
      "1 {'CATG', 'GCAT'}\n",
      "\n",
      "Reverse complement\n",
      "0 {'GCAT', 'TGCA'}\n",
      "1 {'ATGC', 'CATG'}\n",
      "\n",
      "Flagged indexes: [0, 1]\n"
     ]
    }
   ],
   "source": [
    "# Test 4\n",
    "\n",
    "seq_list = ['ATGCA', 'GCATG']\n",
    "k = 4\n",
    "\n",
    "print(\"\\nFlagged indexes:\", flag_matching_kmer(seq_list, k))"
   ]
  }
 ],
 "metadata": {
  "kernelspec": {
   "display_name": "Python 3",
   "language": "python",
   "name": "python3"
  },
  "language_info": {
   "codemirror_mode": {
    "name": "ipython",
    "version": 3
   },
   "file_extension": ".py",
   "mimetype": "text/x-python",
   "name": "python",
   "nbconvert_exporter": "python",
   "pygments_lexer": "ipython3",
   "version": "3.7.0"
  }
 },
 "nbformat": 4,
 "nbformat_minor": 2
}
